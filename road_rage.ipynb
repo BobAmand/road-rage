{
 "cells": [
  {
   "cell_type": "markdown",
   "metadata": {},
   "source": [
    "## road_rage - Exercise 12, The Iron Yard\n",
    "\n"
   ]
  },
  {
   "cell_type": "code",
   "execution_count": 41,
   "metadata": {
    "collapsed": true
   },
   "outputs": [],
   "source": [
    "import numpy as np\n",
    "import random\n",
    "import math\n",
    "import matplotlib.pyplot as plt\n",
    "import matplotlib.image as mpimg"
   ]
  },
  {
   "cell_type": "code",
   "execution_count": 42,
   "metadata": {
    "collapsed": true
   },
   "outputs": [],
   "source": [
    "%matplotlib inline"
   ]
  },
  {
   "cell_type": "code",
   "execution_count": 136,
   "metadata": {
    "collapsed": false
   },
   "outputs": [],
   "source": [
    "\n",
    "'''\n",
    "    Individual cars need to:\n",
    "    - location\n",
    "        - start\n",
    "        - end\n",
    "    - speed_up\n",
    "        - rate of acceleration\n",
    "        - maximum speed\n",
    "    - slow_down\n",
    "        - rate of deceleration\n",
    "    - clock\n",
    "        - seconds\n",
    "        - start\n",
    "        - stop\n",
    "    - run with print out of speed and distance traveled at each tick\n",
    "'''\n",
    "\n",
    "class Car:\n",
    "    def __init__(self):\n",
    "        self.length = 5     #standard car length\n",
    "        self.max_speed = 33 #33 meters per second equivalent to 120 kilometers/sec.\n",
    "        self.velocity = 0   #zero velocity at the start.\n",
    "        self.location = 0   #starting at point \"x = 0\"; or at 0 meters\n",
    "        self.clock = 0      #starting at zero time.\n",
    "\n",
    "    def accelerate(self):\n",
    "        for t in range(60):\n",
    "            if t == 0:\n",
    "                self.velocity = 0\n",
    "            elif self.decelerate() == True and (self.velocity > 0):\n",
    "                self.velocity -= 2        #reduced by 2 meters per second\n",
    "                self.location += self.velocity\n",
    "                print(\"........Brake\")\n",
    "            else:\n",
    "                if self.velocity <= (self.max_speed -3):\n",
    "                    self.velocity += 2    #increased by 2 meters per second\n",
    "            self.location += self.velocity\n",
    "            \n",
    "            print(\"time: {}, velocity: {}, location: {} meters\".format(t, self.velocity, self.location))\n",
    "             \n",
    "    def decelerate(self):\n",
    "        if random.random() < 0.1:\n",
    "            return True\n",
    "        else:\n",
    "            return False\n",
    "    \n",
    "#     def clock(self, ticks=60):      #set at 60 ticks\n",
    "#         self.ticks = ticks\n",
    "        \n",
    "#     def distance(self, ticks):\n",
    "#         for i in range(self.ticks):\n",
    "#             self.location += self.velocity * self.ticks\n",
    "#             self.ticks +=1\n",
    "\n"
   ]
  },
  {
   "cell_type": "code",
   "execution_count": null,
   "metadata": {
    "collapsed": true
   },
   "outputs": [],
   "source": []
  },
  {
   "cell_type": "code",
   "execution_count": 137,
   "metadata": {
    "collapsed": false
   },
   "outputs": [
    {
     "name": "stdout",
     "output_type": "stream",
     "text": [
      "time: 0, velocity: 0, location: 0 meters\n",
      "time: 1, velocity: 2, location: 2 meters\n",
      "time: 2, velocity: 4, location: 6 meters\n",
      "time: 3, velocity: 6, location: 12 meters\n",
      "time: 4, velocity: 8, location: 20 meters\n",
      "time: 5, velocity: 10, location: 30 meters\n",
      "time: 6, velocity: 12, location: 42 meters\n",
      "time: 7, velocity: 14, location: 56 meters\n",
      "time: 8, velocity: 16, location: 72 meters\n",
      "time: 9, velocity: 18, location: 90 meters\n",
      "time: 10, velocity: 20, location: 110 meters\n",
      "time: 11, velocity: 22, location: 132 meters\n",
      "time: 12, velocity: 24, location: 156 meters\n",
      "time: 13, velocity: 26, location: 182 meters\n",
      "time: 14, velocity: 28, location: 210 meters\n",
      "time: 15, velocity: 30, location: 240 meters\n",
      "time: 16, velocity: 32, location: 272 meters\n",
      "time: 17, velocity: 32, location: 304 meters\n",
      "time: 18, velocity: 32, location: 336 meters\n",
      "time: 19, velocity: 32, location: 368 meters\n",
      "time: 20, velocity: 32, location: 400 meters\n",
      "........Brake\n",
      "time: 21, velocity: 30, location: 460 meters\n",
      "time: 22, velocity: 32, location: 492 meters\n",
      "time: 23, velocity: 32, location: 524 meters\n",
      "time: 24, velocity: 32, location: 556 meters\n",
      "time: 25, velocity: 32, location: 588 meters\n",
      "time: 26, velocity: 32, location: 620 meters\n",
      "time: 27, velocity: 32, location: 652 meters\n",
      "time: 28, velocity: 32, location: 684 meters\n",
      "time: 29, velocity: 32, location: 716 meters\n",
      "time: 30, velocity: 32, location: 748 meters\n",
      "time: 31, velocity: 32, location: 780 meters\n",
      "time: 32, velocity: 32, location: 812 meters\n",
      "time: 33, velocity: 32, location: 844 meters\n",
      "time: 34, velocity: 32, location: 876 meters\n",
      "time: 35, velocity: 32, location: 908 meters\n",
      "time: 36, velocity: 32, location: 940 meters\n",
      "time: 37, velocity: 32, location: 972 meters\n",
      "........Brake\n",
      "time: 38, velocity: 30, location: 1032 meters\n",
      "........Brake\n",
      "time: 39, velocity: 28, location: 1088 meters\n",
      "time: 40, velocity: 30, location: 1118 meters\n",
      "time: 41, velocity: 32, location: 1150 meters\n",
      "time: 42, velocity: 32, location: 1182 meters\n",
      "time: 43, velocity: 32, location: 1214 meters\n",
      "time: 44, velocity: 32, location: 1246 meters\n",
      "time: 45, velocity: 32, location: 1278 meters\n",
      "........Brake\n",
      "time: 46, velocity: 30, location: 1338 meters\n",
      "time: 47, velocity: 32, location: 1370 meters\n",
      "time: 48, velocity: 32, location: 1402 meters\n",
      "........Brake\n",
      "time: 49, velocity: 30, location: 1462 meters\n",
      "time: 50, velocity: 32, location: 1494 meters\n",
      "time: 51, velocity: 32, location: 1526 meters\n",
      "time: 52, velocity: 32, location: 1558 meters\n",
      "time: 53, velocity: 32, location: 1590 meters\n",
      "time: 54, velocity: 32, location: 1622 meters\n",
      "time: 55, velocity: 32, location: 1654 meters\n",
      "time: 56, velocity: 32, location: 1686 meters\n",
      "time: 57, velocity: 32, location: 1718 meters\n",
      "time: 58, velocity: 32, location: 1750 meters\n",
      "time: 59, velocity: 32, location: 1782 meters\n"
     ]
    }
   ],
   "source": [
    "mustang = Car()\n",
    "mustang.accelerate()"
   ]
  },
  {
   "cell_type": "code",
   "execution_count": null,
   "metadata": {
    "collapsed": false
   },
   "outputs": [],
   "source": []
  },
  {
   "cell_type": "code",
   "execution_count": null,
   "metadata": {
    "collapsed": false
   },
   "outputs": [],
   "source": []
  },
  {
   "cell_type": "code",
   "execution_count": null,
   "metadata": {
    "collapsed": false
   },
   "outputs": [],
   "source": []
  },
  {
   "cell_type": "code",
   "execution_count": null,
   "metadata": {
    "collapsed": true
   },
   "outputs": [],
   "source": []
  },
  {
   "cell_type": "code",
   "execution_count": null,
   "metadata": {
    "collapsed": false
   },
   "outputs": [],
   "source": []
  },
  {
   "cell_type": "code",
   "execution_count": 85,
   "metadata": {
    "collapsed": false
   },
   "outputs": [
    {
     "name": "stdout",
     "output_type": "stream",
     "text": [
      "[[ 1.  1.  1. ...,  1.  0.  1.]\n",
      " [ 0.  1.  0. ...,  1.  1.  0.]\n",
      " [ 1.  0.  1. ...,  1.  1.  1.]\n",
      " ..., \n",
      " [ 0.  1.  1. ...,  1.  1.  1.]\n",
      " [ 1.  1.  1. ...,  1.  1.  1.]\n",
      " [ 0.  1.  0. ...,  0.  1.  1.]]\n"
     ]
    },
    {
     "data": {
      "text/plain": [
       "<function matplotlib.pyplot.show>"
      ]
     },
     "execution_count": 85,
     "metadata": {},
     "output_type": "execute_result"
    },
    {
     "data": {
      "image/png": "[encoded data removed]",
      "text/plain": [
       "<matplotlib.figure.Figure at 0x108a157b8>"
      ]
     },
     "metadata": {},
     "output_type": "display_data"
    }
   ],
   "source": [
    "# get your data in an np.array, make sure the type is float32 using .astype('float32')\n",
    "\n",
    "img_data = np.random.choice([0,1,1], (60, 1000)).astype('float32')\n",
    "print(img_data)\n",
    "\n",
    "plt.figure(figsize=(20, 20)) # size is in \"inches\"\n",
    "plt.imshow(img_data, cmap='gray', interpolation='nearest')\n",
    "plt.show"
   ]
  },
  {
   "cell_type": "code",
   "execution_count": null,
   "metadata": {
    "collapsed": false
   },
   "outputs": [],
   "source": []
  },
  {
   "cell_type": "code",
   "execution_count": null,
   "metadata": {
    "collapsed": false
   },
   "outputs": [],
   "source": []
  },
  {
   "cell_type": "code",
   "execution_count": null,
   "metadata": {
    "collapsed": false
   },
   "outputs": [],
   "source": []
  },
  {
   "cell_type": "code",
   "execution_count": null,
   "metadata": {
    "collapsed": true
   },
   "outputs": [],
   "source": []
  },
  {
   "cell_type": "code",
   "execution_count": null,
   "metadata": {
    "collapsed": true
   },
   "outputs": [],
   "source": []
  }
 ],
 "metadata": {
  "kernelspec": {
   "display_name": "Python 3",
   "language": "python",
   "name": "python3"
  },
  "language_info": {
   "codemirror_mode": {
    "name": "ipython",
    "version": 3
   },
   "file_extension": ".py",
   "mimetype": "text/x-python",
   "name": "python",
   "nbconvert_exporter": "python",
   "pygments_lexer": "ipython3",
   "version": "3.4.3"
  }
 },
 "nbformat": 4,
 "nbformat_minor": 0
}
