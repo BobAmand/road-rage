{
 "cells": [
  {
   "cell_type": "markdown",
   "metadata": {},
   "source": [
    "## road_rage - Exercise 12, The Iron Yard\n",
    "\n"
   ]
  },
  {
   "cell_type": "code",
   "execution_count": 53,
   "metadata": {
    "collapsed": true
   },
   "outputs": [],
   "source": [
    "import numpy as np\n",
    "import random\n",
    "import math\n",
    "import matplotlib.pyplot as plt\n",
    "import matplotlib.image as mpimg"
   ]
  },
  {
   "cell_type": "code",
   "execution_count": 54,
   "metadata": {
    "collapsed": true
   },
   "outputs": [],
   "source": [
    "%matplotlib inline"
   ]
  },
  {
   "cell_type": "code",
   "execution_count": 60,
   "metadata": {
    "collapsed": false
   },
   "outputs": [],
   "source": [
    "#Overall Build Strategy\n",
    "'''\n",
    "    Individual cars need to:\n",
    "    - location\n",
    "        - start\n",
    "        - end\n",
    "    - speed_up\n",
    "        - rate of acceleration\n",
    "        - maximum speed\n",
    "    - slow_down\n",
    "        - rate of deceleration\n",
    "    - clock\n",
    "        - seconds\n",
    "        - start\n",
    "        - stop\n",
    "    - run with print out of speed and distance traveled at each tick\n",
    "'''\n",
    "\n",
    "class Car:\n",
    "    def __init__(self):\n",
    "        self.length = 5     #standard car length\n",
    "        self.max_speed = 33 #33 meters per second equivalent to 120 kilometers/sec.\n",
    "        self.velocity = 0   #zero velocity at the start.\n",
    "        self.location = 0   #starting at point \"x = 0\"; or at 0 meters\n",
    "        self.clock = 0      #starting at zero time.\n",
    "\n",
    "    def accelerate(self):\n",
    "        if self.decelerate == True and self.velocity > 0:\n",
    "            self.velocity -= 2        #reduced by 2 meters per second\n",
    "        else:\n",
    "            if self.velocity <= (self.max_speed -3):\n",
    "                self.velocity += 2    #increased by 2 meters per second \n",
    "        \n",
    "        return self.velocity\n",
    "        \n",
    "    def decelerate(self):\n",
    "        if random.random() < 0.1:\n",
    "            return True\n",
    "        else:\n",
    "            return False\n",
    "    \n",
    "#     def clock(self, ticks=60):      #set at 60 ticks\n",
    "#         self.ticks = ticks\n",
    "        \n",
    "#     def distance(self, ticks):\n",
    "#         for i in range(self.ticks):\n",
    "#             self.location += self.velocity * self.ticks\n",
    "#             self.ticks +=1\n",
    "\n"
   ]
  },
  {
   "cell_type": "code",
   "execution_count": 61,
   "metadata": {
    "collapsed": false
   },
   "outputs": [
    {
     "data": {
      "text/plain": [
       "__main__.Car"
      ]
     },
     "execution_count": 61,
     "metadata": {},
     "output_type": "execute_result"
    }
   ],
   "source": [
    "Mustang.__class__\n",
    "\n"
   ]
  },
  {
   "cell_type": "code",
   "execution_count": 62,
   "metadata": {
    "collapsed": false
   },
   "outputs": [
    {
     "ename": "NameError",
     "evalue": "name 'self' is not defined",
     "output_type": "error",
     "traceback": [
      "\u001b[0;31m---------------------------------------------------------------------------\u001b[0m",
      "\u001b[0;31mNameError\u001b[0m                                 Traceback (most recent call last)",
      "\u001b[0;32m<ipython-input-62-5b0948cf386c>\u001b[0m in \u001b[0;36m<module>\u001b[0;34m()\u001b[0m\n\u001b[1;32m      1\u001b[0m \u001b[0mMustang\u001b[0m \u001b[0;34m=\u001b[0m \u001b[0mCar\u001b[0m\u001b[0;34m(\u001b[0m\u001b[0;34m)\u001b[0m\u001b[0;34m\u001b[0m\u001b[0m\n\u001b[0;32m----> 2\u001b[0;31m \u001b[0mprint\u001b[0m\u001b[0;34m(\u001b[0m\u001b[0;34m\"ticks: {}, location, {}, velocity: {}\"\u001b[0m \u001b[0;34m.\u001b[0m\u001b[0mformat\u001b[0m\u001b[0;34m(\u001b[0m\u001b[0mself\u001b[0m\u001b[0;34m.\u001b[0m\u001b[0mticks\u001b[0m\u001b[0;34m,\u001b[0m \u001b[0mself\u001b[0m\u001b[0;34m.\u001b[0m\u001b[0mlocation\u001b[0m\u001b[0;34m,\u001b[0m \u001b[0mself\u001b[0m\u001b[0;34m.\u001b[0m\u001b[0mvelocity\u001b[0m\u001b[0;34m)\u001b[0m\u001b[0;34m)\u001b[0m\u001b[0;34m\u001b[0m\u001b[0m\n\u001b[0m",
      "\u001b[0;31mNameError\u001b[0m: name 'self' is not defined"
     ]
    }
   ],
   "source": [
    "Mustang = Car()\n",
    "print(\"ticks: {}, location, {}, velocity: {}\" .format(self.ticks, self.location, self.velocity))"
   ]
  },
  {
   "cell_type": "code",
   "execution_count": null,
   "metadata": {
    "collapsed": false
   },
   "outputs": [],
   "source": [
    "BMW = Car()\n",
    "print(\"ticks: {}, location, {}, velocity: {}\" .format(self.length, self.velocity, self.max_speed))\n"
   ]
  },
  {
   "cell_type": "code",
   "execution_count": null,
   "metadata": {
    "collapsed": false
   },
   "outputs": [],
   "source": [
    "class Simulation:\n",
    "    '''\n",
    "    Responsibilities:\n",
    "    - monitor location of vehicles\n",
    "    - adjust speed of vehicles to avoid collision\n",
    "    - track time\n",
    "    '''\n",
    "    def tick(self):\n",
    "        \n",
    "    "
   ]
  },
  {
   "cell_type": "code",
   "execution_count": null,
   "metadata": {
    "collapsed": true
   },
   "outputs": [],
   "source": [
    "class GameStats:\n",
    "    '''\n",
    "    Responsibilities:\n",
    "    - capture data\n",
    "    \n",
    "    '''"
   ]
  },
  {
   "cell_type": "code",
   "execution_count": null,
   "metadata": {
    "collapsed": false
   },
   "outputs": [],
   "source": [
    "np.zeros((4, 13))"
   ]
  },
  {
   "cell_type": "code",
   "execution_count": 58,
   "metadata": {
    "collapsed": false
   },
   "outputs": [
    {
     "name": "stdout",
     "output_type": "stream",
     "text": [
      "[[ 1.  0.  1. ...,  1.  1.  1.]\n",
      " [ 0.  1.  1. ...,  1.  0.  1.]\n",
      " [ 1.  1.  0. ...,  0.  0.  0.]\n",
      " ..., \n",
      " [ 1.  0.  1. ...,  0.  0.  0.]\n",
      " [ 1.  1.  0. ...,  1.  0.  0.]\n",
      " [ 0.  1.  1. ...,  1.  1.  1.]]\n"
     ]
    },
    {
     "data": {
      "text/plain": [
       "<function matplotlib.pyplot.show>"
      ]
     },
     "execution_count": 58,
     "metadata": {},
     "output_type": "execute_result"
    },
    {
     "data": {
      "image/png": "[encoded data removed]",
      "text/plain": [
       "<matplotlib.figure.Figure at 0x109ba8d68>"
      ]
     },
     "metadata": {},
     "output_type": "display_data"
    }
   ],
   "source": [
    "# get your data in an np.array, make sure the type is float32 using .astype('float32')\n",
    "\n",
    "img_data = np.random.choice([0,1,1], (60, 1000)).astype('float32')\n",
    "print(img_data)\n",
    "\n",
    "plt.figure(figsize=(20, 20)) # size is in \"inches\"\n",
    "plt.imshow(img_data, cmap='gray', interpolation='nearest')\n",
    "plt.show"
   ]
  },
  {
   "cell_type": "code",
   "execution_count": null,
   "metadata": {
    "collapsed": false
   },
   "outputs": [],
   "source": []
  },
  {
   "cell_type": "code",
   "execution_count": null,
   "metadata": {
    "collapsed": false
   },
   "outputs": [],
   "source": []
  },
  {
   "cell_type": "code",
   "execution_count": null,
   "metadata": {
    "collapsed": false
   },
   "outputs": [],
   "source": []
  },
  {
   "cell_type": "code",
   "execution_count": null,
   "metadata": {
    "collapsed": true
   },
   "outputs": [],
   "source": []
  },
  {
   "cell_type": "code",
   "execution_count": null,
   "metadata": {
    "collapsed": true
   },
   "outputs": [],
   "source": []
  }
 ],
 "metadata": {
  "kernelspec": {
   "display_name": "Python 3",
   "language": "python",
   "name": "python3"
  },
  "language_info": {
   "codemirror_mode": {
    "name": "ipython",
    "version": 3
   },
   "file_extension": ".py",
   "mimetype": "text/x-python",
   "name": "python",
   "nbconvert_exporter": "python",
   "pygments_lexer": "ipython3",
   "version": "3.4.3"
  }
 },
 "nbformat": 4,
 "nbformat_minor": 0
}
